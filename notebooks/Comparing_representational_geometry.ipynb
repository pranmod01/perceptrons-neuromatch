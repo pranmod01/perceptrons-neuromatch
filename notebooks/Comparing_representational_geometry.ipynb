{
  "cells": [
    {
      "cell_type": "code",
      "execution_count": 1,
      "metadata": {
        "id": "TSnaQ2NXA_3q"
      },
      "outputs": [],
      "source": [
        "# Scikit-Learn for machine learning utilities\n",
        "from sklearn.decomposition import PCA\n",
        "from sklearn import manifold"
      ]
    },
    {
      "cell_type": "code",
      "execution_count": null,
      "metadata": {
        "id": "bfDLY4cSDjXI"
      },
      "outputs": [],
      "source": [
        "def dim_reduction(model_features, transformation_funcs, n_components=2):\n",
        "    \"\"\"\n",
        "    Reduce dimensionality for model features using various transformations.\n",
        "\n",
        "    Inputs:\n",
        "    - model_features (dict): Dictionary containing model features for each layer.\n",
        "    - transformer_funcs (list): List of dimensionality reduction techniques to apply ('PCA', 'MDS', 't-SNE').\n",
        "    \"\"\"\n",
        "    transformations = []\n",
        "    reduced = {}\n",
        "    for t in transformation_funcs:\n",
        "        if t == 'PCA': transformations.append(PCA(n_components=n_components))\n",
        "        if t == 'MDS': transformations.append(manifold.MDS(n_components=n_components, normalized_stress='auto'))\n",
        "        if t == 't-SNE': transformations.append(manifold.TSNE(n_components=n_components, perplexity=40, verbose=0))\n",
        "\n",
        "    return_layers = list(model_features.keys())\n",
        "\n",
        "    for f in range(len(transformation_funcs)):\n",
        "\n",
        "        for l in range(len(return_layers)):\n",
        "            layer =  return_layers[l]\n",
        "            feats = model_features[layer]\n",
        "            feats_transformed= transformations[f].fit_transform(feats)\n",
        "            reduced[layer] = feats_transformed\n",
        "\n",
        "    return reduced"
      ]
    },
    {
      "cell_type": "code",
      "execution_count": null,
      "metadata": {
        "id": "ZqewpFI-Cbs0"
      },
      "outputs": [],
      "source": [
        "# @title Sequential image representation clustering\n",
        "\n",
        "return_layers = ['input', 'conv1', 'conv2', 'fc1', 'fc2']\n",
        "\n",
        "model_features = rdms_dict # Here is where RDMs are feeded to the MDS dimensionality reduction\n",
        "# rdms_dict should be a dictionary with layers as keys, e.g. {'conv1': rmds_array}\n",
        "transformation_funcs =['PCA', 'MDS', 't-SNE']\n",
        "reduced_features = dim_reduction(model_features, transformation_funcs, n_components=2)"
      ]
    }
  ],
  "metadata": {
    "colab": {
      "provenance": []
    },
    "kernelspec": {
      "display_name": "Python 3",
      "name": "python3"
    },
    "language_info": {
      "name": "python"
    }
  },
  "nbformat": 4,
  "nbformat_minor": 0
}
