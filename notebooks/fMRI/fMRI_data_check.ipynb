{
  "cells": [
    {
      "cell_type": "code",
      "execution_count": 1,
      "metadata": {
        "id": "2WzEhzrl1uuD"
      },
      "outputs": [],
      "source": [
        "import numpy as np\n",
        "import pandas as pd\n",
        "import matplotlib.pyplot as plt\n",
        "from scipy.io import loadmat\n",
        "import random"
      ]
    },
    {
      "cell_type": "code",
      "execution_count": 2,
      "metadata": {},
      "outputs": [],
      "source": [
        "from numba import jit\n",
        "import numpy as np"
      ]
    },
    {
      "cell_type": "code",
      "execution_count": 3,
      "metadata": {},
      "outputs": [],
      "source": [
        "@jit(nopython=True, cache=True, fastmath=True)\n",
        "def make_sphere_array(radius):\n",
        "    arr = np.full((2*radius+1,2*radius+1,2*radius+1), False)\n",
        "    x0, y0, z0 = int(arr.shape[0]/2),int(arr.shape[1]/2),int(arr.shape[2]/2)\n",
        "    for x in range(x0-radius, x0+radius+1):\n",
        "        for y in range(y0-radius, y0+radius+1):\n",
        "                for z in range(z0-radius, z0+radius+1):\n",
        "                    deb = np.linalg.norm(np.array([x0-x, y0-y, z0-z], dtype=np.float32))\n",
        "                    arr[x,y,z] = True if deb <= radius else False\n",
        "    return arr\n",
        "\n",
        "def search_light_analysis(data, radius, search_area=None, post_func=None):\n",
        "    search_area = data if search_area is None else search_area \n",
        "    post_func = (lambda x:x) if post_func is None else post_func\n",
        "    sphere_mask = make_sphere_array(radius)\n",
        "    for x0 in range(radius, data.shape[0]-radius):\n",
        "        for y0 in range(radius, data.shape[1]-radius):\n",
        "            for z0 in range(radius, data.shape[2]-radius):\n",
        "                if search_area[x0,y0,z0]:\n",
        "                    target_area = data[x0-radius:x0+radius+1,y0-radius:y0+radius+1,z0-radius:z0+radius+1].copy()\n",
        "                    available_mask = (target_area.sum(axis=3)!=0) & sphere_mask\n",
        "                    if np.any(available_mask):\n",
        "                        values = target_area[available_mask]\n",
        "                        result = post_func(values)\n",
        "                        yield result, (x0,y0,z0)"
      ]
    },
    {
      "cell_type": "code",
      "execution_count": 4,
      "metadata": {},
      "outputs": [],
      "source": [
        "beta = np.load('Sample_fMRI_data.npz')['beta']\n",
        "\n",
        "# Define mask\n",
        "mask = np.ones((beta.shape[:3]))\n",
        "tmp = np.sum((beta!=0),axis=3)\n",
        "mask[(tmp<16)] = 0\n",
        "\n",
        "# Searchlight\n",
        "brain_inform_list = [inform for inform in search_light_analysis(beta,radius=3,search_area=mask)]\n",
        "nvv = len(brain_inform_list) # number of valid voxels\n",
        "brain_rdm = np.zeros((nvv,16,16))\n",
        "cnt_info = np.zeros((nvv),dtype=int)\n",
        "for vi in range(nvv): \n",
        "    tp = brain_inform_list[vi][0] # nvv,192\n",
        "    tp2 = 1-np.corrcoef(tp, rowvar=False)\n",
        "    brain_rdm[vi] = tp2\n",
        "    cnt_info[vi] = tp.shape[0]\n",
        "    \n"
      ]
    },
    {
      "cell_type": "code",
      "execution_count": 37,
      "metadata": {},
      "outputs": [
        {
          "data": {
            "text/plain": [
              "(55, 16)"
            ]
          },
          "execution_count": 37,
          "metadata": {},
          "output_type": "execute_result"
        }
      ],
      "source": [
        "brain_inform_list[6][0].shape"
      ]
    },
    {
      "cell_type": "code",
      "execution_count": 5,
      "metadata": {},
      "outputs": [],
      "source": [
        "import numpy as np\n",
        "from scipy import stats\n",
        "import matplotlib.pyplot as plt\n",
        "import seaborn as sns\n",
        "%matplotlib inline"
      ]
    },
    {
      "cell_type": "code",
      "execution_count": 6,
      "metadata": {},
      "outputs": [],
      "source": [
        "# Create RDM codes for each condition\n",
        "# Digit recognition code\n",
        "dgt_cd = np.zeros((16,16))\n",
        "dgt_cd[:10,:10] = 1\n",
        "\n",
        "# Object recognition code\n",
        "obj_cd = np.zeros((16,16))\n",
        "obj_cd[10:,10:] = 1\n",
        "\n",
        "# Digit vs. Object code\n",
        "vs_cd = np.zeros((16,16))\n",
        "vs_cd[:10,10:] = 1\n",
        "vs_cd[10:,:10] = 1\n",
        "\n",
        "# Magnitude code\n",
        "mag_cd = np.zeros((16,16))\n",
        "mag_cd[7:10,1:4] = 1\n",
        "\n",
        "# Animacy code\n",
        "ani_cd = np.zeros((16,16))\n",
        "ani_cd[13:,10:13] = 1\n",
        "\n",
        "cd_name_list = ['Digit', 'Object', 'Versus', 'Magnitude', 'Animacy']    \n",
        "cds_list = [dgt_cd,obj_cd,vs_cd,mag_cd,ani_cd]\n",
        "num_cds = len(cds_list)"
      ]
    },
    {
      "cell_type": "code",
      "execution_count": 7,
      "metadata": {},
      "outputs": [],
      "source": [
        "def rdm_reord(org):\n",
        "    new = org.copy()\n",
        "    new[10:15,10:15] = org[11:,11:]\n",
        "    new[15,15] = org[10,10]\n",
        "    new[-1,10:15] = org[10,11:]\n",
        "    new[10:15,-1] = org[11:,10]\n",
        "    return new\n",
        "\n",
        "il16 = np.tril_indices(16,-1)\n",
        "def rsa(rdm_,code):\n",
        "    rho, p = stats.spearmanr(code[il16],rdm_[il16])\n",
        "    return rho, p "
      ]
    },
    {
      "cell_type": "code",
      "execution_count": 8,
      "metadata": {},
      "outputs": [],
      "source": [
        "nvv = brain_rdm.shape[0]\n",
        "\n",
        "# RSA\n",
        "rsa_rslt = np.zeros((num_cds,64,76,64))\n",
        "rsa_rslt_pval = np.zeros((num_cds,64,76,64))\n",
        "for cdi,code in enumerate(cds_list):\n",
        "    vol_rho = np.zeros((64,76,64))\n",
        "    vol_pval = np.zeros((64,76,64))\n",
        "    for vi in range(nvv):\n",
        "        idx = brain_inform_list[vi][1]\n",
        "        rdm_ = rdm_reord(brain_rdm[vi])\n",
        "        vol_rho[idx], vol_pval[idx] = rsa(rdm_,code)\n",
        "    rsa_rslt[cdi], rsa_rslt_pval[cdi] = vol_rho, vol_pval"
      ]
    },
    {
      "cell_type": "code",
      "execution_count": 9,
      "metadata": {},
      "outputs": [
        {
          "data": {
            "text/plain": [
              "(33996, 16, 16)"
            ]
          },
          "execution_count": 9,
          "metadata": {},
          "output_type": "execute_result"
        }
      ],
      "source": [
        "brain_rdm.shape"
      ]
    },
    {
      "cell_type": "markdown",
      "metadata": {},
      "source": [
        "ROI mao associated with each concept"
      ]
    },
    {
      "cell_type": "code",
      "execution_count": 10,
      "metadata": {},
      "outputs": [],
      "source": [
        "p_threshold = 0.05\n",
        "rsa_rslt[(rsa_rslt_pval > p_threshold)] = 0 # uncorrected p-values used in this sample code\n",
        "rsa_rslt[(rsa_rslt < 0)] = 0 # Positive voxels"
      ]
    },
    {
      "cell_type": "code",
      "execution_count": 11,
      "metadata": {},
      "outputs": [],
      "source": [
        "import nibabel as nib\n",
        "\n",
        "affine = np.array([[   3. ,   -0. ,   -0. ,  -94.5],\n",
        "       [  -0. ,    3. ,   -0. , -130.5],\n",
        "       [   0. ,    0. ,    3. ,  -76.5],\n",
        "       [   0. ,    0. ,    0. ,    1. ]])\n",
        "\n",
        "def save_nifti(vol, savepath, zero_to_nan=True):\n",
        "    if zero_to_nan:\n",
        "        vol[(vol==0)] = np.nan\n",
        "    img1 = nib.Nifti1Image(vol,affine=affine)\n",
        "    nib.save(img1,savepath)\n",
        "\n",
        "for cdi in range(num_cds):    \n",
        "    save_nifti(rsa_rslt[cdi], cd_name_list[cdi]+'.nii')"
      ]
    },
    {
      "cell_type": "code",
      "execution_count": 15,
      "metadata": {},
      "outputs": [],
      "source": [
        "num_cds = 5\n",
        "cd_name_list = ['Digit', 'Object', 'Versus', 'Magnitude', 'Animacy']    \n",
        "roi_masks = np.zeros((num_cds,64,76,64))\n",
        "for cdi in range(num_cds):\n",
        "    tmp = np.nan_to_num(nib.load(cd_name_list[cdi]+'.nii').get_fdata())\n",
        "    roi_masks[cdi] = (tmp!=0)"
      ]
    },
    {
      "cell_type": "code",
      "execution_count": 19,
      "metadata": {},
      "outputs": [],
      "source": [
        "nvv = brain_rdm.shape[0]\n",
        "\n",
        "\n",
        "for cdi in range(num_cds):\n",
        "    stim_type = cd_name_list[cdi]\n",
        "    roi_mask = roi_masks[cdi]\n",
        "    for vi in range(nvv):\n",
        "        idx = brain_inform_list[vi][1]\n",
        "        # If the index is not at the ROI, continue.\n",
        "        if roi_mask[idx] != 1:\n",
        "            continue\n",
        "        roirdm = brain_rdm[vi]\n"
      ]
    },
    {
      "cell_type": "markdown",
      "metadata": {},
      "source": [
        "Calculate the RSA results for each concept and ROI\n"
      ]
    }
  ],
  "metadata": {
    "accelerator": "GPU",
    "colab": {
      "gpuType": "A100",
      "machine_shape": "hm",
      "provenance": []
    },
    "kernelspec": {
      "display_name": "base",
      "language": "python",
      "name": "python3"
    },
    "language_info": {
      "codemirror_mode": {
        "name": "ipython",
        "version": 3
      },
      "file_extension": ".py",
      "mimetype": "text/x-python",
      "name": "python",
      "nbconvert_exporter": "python",
      "pygments_lexer": "ipython3",
      "version": "3.11.7"
    }
  },
  "nbformat": 4,
  "nbformat_minor": 0
}
