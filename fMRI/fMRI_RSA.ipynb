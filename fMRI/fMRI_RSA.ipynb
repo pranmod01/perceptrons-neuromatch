{
  "cells": [
    {
      "cell_type": "code",
      "execution_count": null,
      "metadata": {
        "id": "jNFjd_OScn_z"
      },
      "outputs": [],
      "source": [
        "%cd /content/drive/MyDrive/NMA_NeuroAI"
      ]
    },
    {
      "cell_type": "code",
      "execution_count": null,
      "metadata": {
        "id": "qvEGoiNyfCG4"
      },
      "outputs": [],
      "source": [
        "!pip install nilearn rsatoolbox"
      ]
    },
    {
      "cell_type": "code",
      "execution_count": null,
      "metadata": {
        "id": "heSqCB8YcqkH"
      },
      "outputs": [],
      "source": [
        "import numpy as np\n",
        "import matplotlib.pyplot as plt\n",
        "from nilearn.image import new_img_like\n",
        "import nibabel as nib\n",
        "import seaborn as sns\n",
        "from nilearn import plotting\n",
        "from rsatoolbox.inference import eval_fixed\n",
        "from rsatoolbox.model import ModelFixed\n",
        "from glob import glob\n",
        "from rsatoolbox.util.searchlight import get_volume_searchlight, get_searchlight_RDMs, evaluate_models_searchlight\n",
        "from rsatoolbox.rdm import RDMs\n",
        "from rsatoolbox.vis import plot_model_comparison"
      ]
    },
    {
      "cell_type": "code",
      "execution_count": null,
      "metadata": {
        "id": "fjfEKJjXgrmQ"
      },
      "outputs": [],
      "source": [
        "def upper_tri(RDM):\n",
        "    \"\"\"upper_tri returns the upper triangular index of an RDM\n",
        "\n",
        "    Args:\n",
        "        RDM 2Darray: squareform RDM\n",
        "\n",
        "    Returns:\n",
        "        1D array: upper triangular vector of the RDM\n",
        "    \"\"\"\n",
        "    # returns the upper triangle\n",
        "    m = RDM.shape[0]\n",
        "    r, c = np.triu_indices(m, 1)\n",
        "    return RDM[r, c]\n",
        "\n",
        "\n",
        "def classwise_rdm(rdm_300x300, n_classes=10, n_per_class=30):\n",
        "    rdm_10x10 = np.zeros((n_classes, n_classes))\n",
        "    for i in range(n_classes):\n",
        "        for j in range(n_classes):\n",
        "            # Get the sample indices for class i and class j\n",
        "            idx_i = slice(i * n_per_class, (i + 1) * n_per_class)\n",
        "            idx_j = slice(j * n_per_class, (j + 1) * n_per_class)\n",
        "            block = rdm_300x300[idx_i, idx_j]\n",
        "            rdm_10x10[i, j] = block.mean()\n",
        "    return rdm_10x10"
      ]
    },
    {
      "cell_type": "code",
      "execution_count": null,
      "metadata": {
        "id": "GJYl1zYMcojU"
      },
      "outputs": [],
      "source": [
        "neural_data = np.load('fMRI/Sample_Neural_RDM.npz', allow_pickle=True)\n",
        "\n",
        "fmri_rdm = neural_data['rdm']\n",
        "info_list = neural_data['info_list']\n",
        "\n",
        "digit_rdm = fmri_rdm[:, :10, :10]"
      ]
    },
    {
      "cell_type": "code",
      "execution_count": null,
      "metadata": {
        "id": "L3DQXryncspi"
      },
      "outputs": [],
      "source": [
        "cnn_sample_rdms = np.load('model_RDMs/rdms_by_layer.npz')\n",
        "cnn_sample_rdms.files"
      ]
    },
    {
      "cell_type": "code",
      "execution_count": null,
      "metadata": {
        "id": "EzNh8thrlDq-"
      },
      "outputs": [],
      "source": [
        "cnn_rdms = {k: classwise_rdm(cnn_sample_rdms[k]) for k in cnn_sample_rdms.files}"
      ]
    },
    {
      "cell_type": "code",
      "execution_count": null,
      "metadata": {
        "id": "LMjT14nMfw2A"
      },
      "outputs": [],
      "source": [
        "cnn_models = []\n",
        "for i_model in cnn_sample_rdms.files:\n",
        "    m = ModelFixed(i_model, cnn_rdms[i_model])\n",
        "    cnn_models.append(m)\n",
        "\n",
        "print('created the following models:')\n",
        "for i in range(len(cnn_models)):\n",
        "    print(cnn_models[i].name)"
      ]
    },
    {
      "cell_type": "code",
      "execution_count": null,
      "metadata": {
        "id": "9ZwJwxImjZEh"
      },
      "outputs": [],
      "source": [
        "centers_3d = np.array([[info_list[i][1][0], info_list[i][1][1], info_list[i][1][2]] for i in range(info_list.shape[0])])\n",
        "centers = np.ravel_multi_index(centers_3d.T, (64,76,64))"
      ]
    },
    {
      "cell_type": "code",
      "execution_count": null,
      "metadata": {
        "id": "tUSyBe0yk5LK"
      },
      "outputs": [],
      "source": [
        "digit_rdm.shape"
      ]
    },
    {
      "cell_type": "code",
      "execution_count": null,
      "metadata": {
        "id": "vOBWAStwk6cj"
      },
      "outputs": [],
      "source": [
        "cnn_models[-1].rdm."
      ]
    },
    {
      "cell_type": "code",
      "execution_count": null,
      "metadata": {
        "id": "utAkVetIgYg9"
      },
      "outputs": [],
      "source": [
        "searchlight_RDMs = RDMs(\n",
        "    dissimilarities=digit_rdm,\n",
        "    dissimilarity_measure='1-corr',\n",
        "    rdm_descriptors={'voxel_index': centers}\n",
        ")"
      ]
    },
    {
      "cell_type": "code",
      "execution_count": null,
      "metadata": {
        "id": "oronafvXktGP"
      },
      "outputs": [],
      "source": [
        "searchlight_RDMs.n_rdm"
      ]
    },
    {
      "cell_type": "code",
      "execution_count": null,
      "metadata": {
        "colab": {
          "background_save": true
        },
        "id": "dGvpnnOEkl7L"
      },
      "outputs": [],
      "source": [
        "eval_results = evaluate_models_searchlight(searchlight_RDMs, cnn_models, eval_fixed, method='spearman', n_jobs=3)"
      ]
    },
    {
      "cell_type": "code",
      "source": [
        "# get the evaulation score for each voxel\n",
        "# We only have one model, but evaluations returns a list. By using float we just grab the value within that list\n",
        "eval_score = np.array([e.evaluations.flatten() for e in eval_results])\n",
        "eval_score.shape"
      ],
      "metadata": {
        "id": "uQMW2BDVxMSg"
      },
      "execution_count": null,
      "outputs": []
    },
    {
      "cell_type": "code",
      "execution_count": null,
      "metadata": {
        "id": "mZNS1Ymie8FF"
      },
      "outputs": [],
      "source": [
        "# Create an 3D array, with the size of mask, and\n",
        "x, y, z = (64, 76, 64)\n",
        "RDM_brain = np.zeros([eval_score.shape[1], x*y*z])\n",
        "for i in range(eval_score.shape[1]):\n",
        "    RDM_brain[i][list(searchlight_RDMs.rdm_descriptors['voxel_index'])] = eval_score[:, i]\n",
        "RDM_brain = RDM_brain.reshape([eval_score.shape[1], x, y, z])"
      ]
    },
    {
      "cell_type": "code",
      "execution_count": null,
      "metadata": {
        "id": "sucEEJGhoUOs"
      },
      "outputs": [],
      "source": [
        "sns.distplot(eval_score)\n",
        "plt.title('Distributions of correlations', size=18)\n",
        "plt.ylabel('Occurance', size=18)\n",
        "plt.xlabel('Spearmann correlation', size=18)\n",
        "sns.despine()\n",
        "plt.show()"
      ]
    },
    {
      "cell_type": "code",
      "execution_count": null,
      "metadata": {
        "id": "UuPtwK_0ov6a"
      },
      "outputs": [],
      "source": [
        "tmp_img = nib.load('fMRI/Digit.nii')"
      ]
    },
    {
      "cell_type": "code",
      "execution_count": null,
      "metadata": {
        "id": "2ZD6b35Jo3uz"
      },
      "outputs": [],
      "source": [
        "import matplotlib.colors\n",
        "def RDMcolormapObject(direction=1):\n",
        "    \"\"\"\n",
        "    Returns a matplotlib color map object for RSA and brain plotting\n",
        "    \"\"\"\n",
        "    if direction == 0:\n",
        "        cs = ['yellow', 'red', 'gray', 'turquoise', 'blue']\n",
        "    elif direction == 1:\n",
        "        cs = ['blue', 'turquoise', 'gray', 'red', 'yellow']\n",
        "    else:\n",
        "        raise ValueError('Direction needs to be 0 or 1')\n",
        "    cmap = matplotlib.colors.LinearSegmentedColormap.from_list(\"\", cs)\n",
        "    return cmap\n"
      ]
    },
    {
      "cell_type": "code",
      "execution_count": null,
      "metadata": {
        "id": "xXQHYh6UoeAi"
      },
      "outputs": [],
      "source": [
        "# lets plot the voxels above the 99th percentile\n",
        "for i, layer_name in enumerate(cnn_sample_rdms.files):\n",
        "    plot_img = new_img_like(tmp_img, RDM_brain[i])\n",
        "    threshold = np.percentile(eval_score[i], 99)\n",
        "    cmap = RDMcolormapObject()\n",
        "\n",
        "    coords = range(-20, 40, 5)\n",
        "    fig = plt.figure(figsize=(12, 3))\n",
        "\n",
        "    display = plotting.plot_stat_map(\n",
        "            plot_img, colorbar=True, cut_coords=coords, threshold=threshold,\n",
        "            display_mode='z', draw_cross=False, figure=fig,\n",
        "            title=f'CNN ({layer_name})', cmap=cmap,\n",
        "            black_bg=False, annotate=False)\n",
        "    plt.show()"
      ]
    },
    {
      "cell_type": "code",
      "execution_count": null,
      "metadata": {
        "id": "kcGsXw7xo4iT"
      },
      "outputs": [],
      "source": []
    }
  ],
  "metadata": {
    "colab": {
      "provenance": []
    },
    "kernelspec": {
      "display_name": "Python 3",
      "name": "python3"
    },
    "language_info": {
      "name": "python"
    }
  },
  "nbformat": 4,
  "nbformat_minor": 0
}