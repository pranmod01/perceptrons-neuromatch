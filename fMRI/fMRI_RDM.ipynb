{
  "nbformat": 4,
  "nbformat_minor": 0,
  "metadata": {
    "colab": {
      "provenance": []
    },
    "kernelspec": {
      "name": "python3",
      "display_name": "Python 3"
    },
    "language_info": {
      "name": "python"
    }
  },
  "cells": [
    {
      "cell_type": "code",
      "source": [
        "%cd /content/drive/MyDrive/NMA_NeuroAI"
      ],
      "metadata": {
        "colab": {
          "base_uri": "https://localhost:8080/"
        },
        "id": "1Wdohq9di9yb",
        "outputId": "5a7153c0-c721-4941-b52b-60c383bc8b57"
      },
      "execution_count": null,
      "outputs": [
        {
          "output_type": "stream",
          "name": "stdout",
          "text": [
            "/content/drive/MyDrive/NMA_NeuroAI\n"
          ]
        }
      ]
    },
    {
      "cell_type": "code",
      "source": [
        "from numba import jit\n",
        "import numpy as np"
      ],
      "metadata": {
        "id": "FoNsv0lSi2a3"
      },
      "execution_count": null,
      "outputs": []
    },
    {
      "cell_type": "code",
      "execution_count": null,
      "metadata": {
        "id": "gC48BEgrhjEv"
      },
      "outputs": [],
      "source": [
        "@jit(nopython=True, fastmath=True)\n",
        "def make_sphere_array(radius):\n",
        "    arr = np.full((2*radius+1,2*radius+1,2*radius+1), False)\n",
        "    x0, y0, z0 = int(arr.shape[0]/2),int(arr.shape[1]/2),int(arr.shape[2]/2)\n",
        "    for x in range(x0-radius, x0+radius+1):\n",
        "        for y in range(y0-radius, y0+radius+1):\n",
        "                for z in range(z0-radius, z0+radius+1):\n",
        "                    deb = np.linalg.norm(np.array([x0-x, y0-y, z0-z], dtype=np.float32))\n",
        "                    arr[x,y,z] = True if deb <= radius else False\n",
        "    return arr\n",
        "\n",
        "\n",
        "def search_light_analysis(data, radius, search_area=None, post_func=None):\n",
        "    search_area = data if search_area is None else search_area\n",
        "    post_func = (lambda x:x) if post_func is None else post_func\n",
        "    sphere_mask = make_sphere_array(radius)\n",
        "    for x0 in range(radius, data.shape[0]-radius):\n",
        "        for y0 in range(radius, data.shape[1]-radius):\n",
        "            for z0 in range(radius, data.shape[2]-radius):\n",
        "                if search_area[x0,y0,z0]:\n",
        "                    target_area = data[x0-radius:x0+radius+1,y0-radius:y0+radius+1,z0-radius:z0+radius+1].copy()\n",
        "                    available_mask = (target_area.sum(axis=3)!=0) & sphere_mask\n",
        "                    if np.any(available_mask):\n",
        "                        values = target_area[available_mask]\n",
        "                        result = post_func(values)\n",
        "                        yield result, (x0,y0,z0)"
      ]
    },
    {
      "cell_type": "code",
      "source": [
        "# Load brain data\n",
        "beta = np.load('fMRI/Sample_fMRI_data.npz')['beta']\n",
        "\n",
        "# Define mask\n",
        "mask = np.ones((beta.shape[:3]))\n",
        "tmp = np.sum((beta!=0),axis=3)\n",
        "mask[(tmp<16)] = 0\n",
        "\n",
        "# Searchlight\n",
        "brain_inform_list = np.array([inform for inform in search_light_analysis(beta,radius=3,search_area=mask)], dtype='object')\n",
        "nvv = len(brain_inform_list) # number of valid voxels\n",
        "brain_rdm = np.zeros((nvv,16,16))\n",
        "cnt_info = np.zeros((nvv),dtype=int)\n",
        "for vi in range(nvv):\n",
        "    tp = brain_inform_list[vi][0] # nvv,192\n",
        "    tp2 = 1-np.corrcoef(tp, rowvar=False)\n",
        "    brain_rdm[vi] = tp2\n",
        "    cnt_info[vi] = tp.shape[0]\n",
        "\n",
        "# Save brain_rdm\n",
        "savepath = 'fMRI/Sample_Neural_RDM.npz'\n",
        "np.savez(savepath, **{'rdm':brain_rdm, 'info_list':brain_inform_list})"
      ],
      "metadata": {
        "id": "KHJEoEM2i5GG"
      },
      "execution_count": null,
      "outputs": []
    },
    {
      "cell_type": "code",
      "source": [
        "fmri_rdm = np.load('fMRI/Sample_Neural_RDM.npz')['rdm']\n",
        "fmri_rdm.shape"
      ],
      "metadata": {
        "colab": {
          "base_uri": "https://localhost:8080/"
        },
        "id": "PUsaenBYkVgm",
        "outputId": "f6b9c4d2-4d3b-460b-f087-ffdcfc2a717c"
      },
      "execution_count": null,
      "outputs": [
        {
          "output_type": "execute_result",
          "data": {
            "text/plain": [
              "(33996, 16, 16)"
            ]
          },
          "metadata": {},
          "execution_count": 21
        }
      ]
    },
    {
      "cell_type": "code",
      "source": [
        "info_list = np.load('fMRI/Sample_Neural_RDM.npz', allow_pickle=True)['info_list']\n",
        "info_list.shape # info_list[N][0] -> raw values in the masked sphere region; info_list[N][1] -> coordinate"
      ],
      "metadata": {
        "colab": {
          "base_uri": "https://localhost:8080/"
        },
        "id": "W4SMDX75lag3",
        "outputId": "f12fbd3d-4a42-47f5-da7d-fe4226d138f0"
      },
      "execution_count": null,
      "outputs": [
        {
          "output_type": "execute_result",
          "data": {
            "text/plain": [
              "(33996, 2)"
            ]
          },
          "metadata": {},
          "execution_count": 24
        }
      ]
    },
    {
      "cell_type": "code",
      "source": [
        "import numpy as np\n",
        "from scipy import stats\n",
        "import matplotlib.pyplot as plt\n",
        "import seaborn as sns\n",
        "%matplotlib inline"
      ],
      "metadata": {
        "id": "qXLZZnABlYoP"
      },
      "execution_count": null,
      "outputs": []
    },
    {
      "cell_type": "code",
      "source": [
        "# Create RDM codes for each condition\n",
        "# Digit recognition code\n",
        "dgt_cd = np.zeros((16,16))\n",
        "dgt_cd[:10,:10] = 1"
      ],
      "metadata": {
        "id": "ABGN9s3Hlr0d"
      },
      "execution_count": null,
      "outputs": []
    },
    {
      "cell_type": "code",
      "source": [
        "f = plt.figure()\n",
        "plt.title('Digit', fontsize=20)\n",
        "sns.heatmap(dgt_cd,square=True)\n",
        "plt.show()"
      ],
      "metadata": {
        "colab": {
          "base_uri": "https://localhost:8080/",
          "height": 460
        },
        "id": "C3VmsIyLlsbX",
        "outputId": "b356825d-4b74-41a5-ce24-07c7603935dd"
      },
      "execution_count": null,
      "outputs": [
        {
          "output_type": "display_data",
          "data": {
            "text/plain": [
              "<Figure size 640x480 with 2 Axes>"
            ],
            "image/png": "[encoded data removed]"
          },
          "metadata": {}
        }
      ]
    },
    {
      "cell_type": "code",
      "source": [
        "# Define function\n",
        "def rdm_reord(org):\n",
        "    new = org.copy()\n",
        "    new[10:15,10:15] = org[11:,11:]\n",
        "    new[15,15] = org[10,10]\n",
        "    new[-1,10:15] = org[10,11:]\n",
        "    new[10:15,-1] = org[11:,10]\n",
        "    return new\n",
        "\n",
        "\n",
        "il16 = np.tril_indices(16,-1)\n",
        "def rsa(rdm_,code):\n",
        "    rho, p = stats.spearmanr(code[il16],rdm_[il16])\n",
        "    return rho, p"
      ],
      "metadata": {
        "id": "G6BaO8Mrl7LR"
      },
      "execution_count": null,
      "outputs": []
    },
    {
      "cell_type": "code",
      "source": [
        "# Load sample neural RDM made by '03_MVPA_Neural_RDMs.ipynb'\n",
        "l = np.load('fMRI/Sample_Neural_RDM.npz', allow_pickle=True)\n",
        "brain_rdm = l['rdm']\n",
        "brain_inform_list = l['info_list']\n",
        "\n",
        "# Number of searchlight voxels\n",
        "nvv = brain_rdm.shape[0]"
      ],
      "metadata": {
        "id": "6zYRHkNdn2jo"
      },
      "execution_count": null,
      "outputs": []
    },
    {
      "cell_type": "code",
      "source": [
        "# RSA\n",
        "rsa_rslt = np.zeros((64,76,64))\n",
        "rsa_rslt_pval = np.zeros((64,76,64))\n",
        "\n",
        "for vi in range(nvv):\n",
        "    idx = brain_inform_list[vi][1]\n",
        "    rdm_ = rdm_reord(brain_rdm[vi])\n",
        "    rsa_rslt[idx], rsa_rslt_pval[idx] = rsa(rdm_,dgt_cd)"
      ],
      "metadata": {
        "id": "9ptW95Pen9-_"
      },
      "execution_count": null,
      "outputs": []
    },
    {
      "cell_type": "code",
      "source": [
        "# ROI map associated with each concept\n",
        "# In this tutorial, you would use rho values rather than t-statistics from group data.\n",
        "p_threshold = 0.05\n",
        "rsa_rslt[(rsa_rslt_pval > p_threshold)] = 0 # uncorrected p-values used in this sample code\n",
        "rsa_rslt[(rsa_rslt < 0)] = 0 # Positive voxels"
      ],
      "metadata": {
        "id": "P2zoCJZToesS"
      },
      "execution_count": null,
      "outputs": []
    },
    {
      "cell_type": "code",
      "source": [
        "# If you want to save ROI map obtained from sample data, you can run this cell.\n",
        "# savedir = '/dir/to/save/' # Please set the path to save.\n",
        "\n",
        "import nibabel as nib\n",
        "\n",
        "affine = np.array([\n",
        "    [   3. ,   -0. ,   -0. ,  -94.5],\n",
        "    [  -0. ,    3. ,   -0. , -130.5],\n",
        "    [   0. ,    0. ,    3. ,  -76.5],\n",
        "    [   0. ,    0. ,    0. ,    1. ]\n",
        "])\n",
        "\n",
        "def save_nifti(vol, savepath, zero_to_nan=True):\n",
        "    if zero_to_nan:\n",
        "        vol[(vol==0)] = np.nan\n",
        "    img1 = nib.Nifti1Image(vol,affine=affine)\n",
        "    nib.save(img1,savepath)\n",
        "\n",
        "save_nifti(rsa_rslt, 'fMRI/Digit.nii')"
      ],
      "metadata": {
        "id": "qI_85DXSkvpc"
      },
      "execution_count": null,
      "outputs": []
    },
    {
      "cell_type": "code",
      "source": [],
      "metadata": {
        "id": "imsekLJBo8or"
      },
      "execution_count": null,
      "outputs": []
    }
  ]
}